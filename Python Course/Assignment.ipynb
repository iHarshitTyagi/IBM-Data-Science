{
 "cells": [
  {
   "cell_type": "markdown",
   "source": [
    "<h1> My Jupyter Notebook Assignment</h1>"
   ],
   "metadata": {
    "collapsed": false
   }
  },
  {
   "cell_type": "markdown",
   "source": [
    "<h2> Please Read below why i could not submit notebook in watson studio </h2>"
   ],
   "metadata": {
    "collapsed": false
   }
  },
  {
   "cell_type": "markdown",
   "source": [
    "<b>Harshit Tyagi</b>\n",
    "My desired occupation is data scientist."
   ],
   "metadata": {
    "collapsed": false
   }
  },
  {
   "cell_type": "markdown",
   "source": [
    "<i>I am interested in field because it is not just coding you get to make decision making easier and more accurate by using data and you analysis skills</i>"
   ],
   "metadata": {
    "collapsed": false
   }
  },
  {
   "cell_type": "markdown",
   "metadata": {
    "collapsed": true,
    "pycharm": {
     "name": "#%% md\n"
    }
   },
   "source": [
    "Hi,\n",
    "My name is Harshit Tyagi. I,m enrolled in this certification course. The reason for submitting the Jupyter notebook directly and not from the Watson studio is that I could not create a new project in watson studio as there was an error occurring while creating that. It shows that I can not select a storage service, as with the lite plan account only one free instance is created. Either I've to buy a paid plan or delete the existing free instance and then create one (I tried but can't delete it). I've complained about this on IBM cloud and also posted in discussion form in Coursera yet there is no solution provided till now.\n",
    "As the last date is today I'm submitting this from my GitHub account. Please cooperate and at least give me passing grade points. I will be thankful."
   ],
   "outputs": []
  },
  {
   "cell_type": "markdown",
   "source": [
    "<h3>Program to check if any number in  a list is even.</h3>"
   ],
   "metadata": {
    "collapsed": false
   }
  },
  {
   "cell_type": "code",
   "execution_count": null,
   "outputs": [],
   "source": [
    "def check_even_list(num_list):\n",
    "    # Go through each number\n",
    "    for number in num_list:\n",
    "        # Once we get a \"hit\" on an even number, we return True\n",
    "        if number % 2 == 0:\n",
    "            return True\n",
    "        # Otherwise we don't do anything\n",
    "        else:\n",
    "            pass"
   ],
   "metadata": {
    "collapsed": false,
    "pycharm": {
     "name": "#%%\n"
    }
   }
  },
  {
   "cell_type": "markdown",
   "source": [
    "<ul>Bulleted List</ul><li>Point 1</li><li>Point 2</li><li>Point 3</li> <br> <ol>Numbered list</ol><li>Num 1</li><li>Num 2</li><li>Num 3</li> <br> <s>Strikethrough</s>"
   ],
   "metadata": {
    "collapsed": false,
    "pycharm": {
     "name": "#%% md\n"
    }
   }
  },
  {
   "cell_type": "code",
   "execution_count": null,
   "outputs": [],
   "source": [],
   "metadata": {
    "collapsed": false,
    "pycharm": {
     "name": "#%%\n"
    }
   }
  }
 ],
 "metadata": {
  "kernelspec": {
   "display_name": "Python 3",
   "language": "python",
   "name": "python3"
  },
  "language_info": {
   "codemirror_mode": {
    "name": "ipython",
    "version": 2
   },
   "file_extension": ".py",
   "mimetype": "text/x-python",
   "name": "python",
   "nbconvert_exporter": "python",
   "pygments_lexer": "ipython2",
   "version": "2.7.6"
  }
 },
 "nbformat": 4,
 "nbformat_minor": 0
}